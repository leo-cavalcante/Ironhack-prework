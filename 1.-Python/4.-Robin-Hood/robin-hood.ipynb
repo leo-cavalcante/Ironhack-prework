{
 "cells": [
  {
   "cell_type": "markdown",
   "metadata": {},
   "source": [
    "<img src=\"https://bit.ly/2VnXWr2\" width=\"100\" align=\"left\"/>"
   ]
  },
  {
   "cell_type": "markdown",
   "metadata": {},
   "source": [
    "# Robin Hood\n",
    "Robin Hood has entered a competition to win the archery contest in Sherwood. With his bow and arrows, he needs to shoot on a target and try to hit as close as possible to the center.\n",
    "\n",
    "![](images/arrows.jpg)\n",
    "\n",
    "## Context\n",
    "In this challenge, the landing position of arrows shot by archers in the competition will be represented using 2-dimensional coordinates. \n",
    "\n",
    "In the 2-dimensional space, a point can be defined by a pair of values that correspond to the horizontal coordinate (x) and the vertical coordinate (y). For example, in our case, an arrow that hits the center of the archery target will land in position (0, 0) on the coordinate axes. \n",
    "\n",
    "The space can be divided into 4 zones (quadrants): Q1, Q2, Q3, Q4. If a point is in Q1, both its x coordinate and y coordinate are positive. Any point with a null x or y coordinate is considered to not belong to any quadrant. \n",
    "\n",
    "If you want to know more about the cartesian coordinate system, you can check this [link](https://en.wikipedia.org/wiki/Cartesian_coordinate_system). \n",
    "\n",
    "## Tools\n",
    "You don't necessarily need to use all the tools. Maybe you opt to use some of them or completely different ones, they are given to help you shape the exercise. Programming exercises can be solved in many different ways.\n",
    "* Data structures: **lists, sets, tuples**\n",
    "* Conditional statements: **if-elif-else**\n",
    "* Loop: **while/for**\n",
    "* Minimum (optional sorting)\n",
    "\n",
    "## Tasks\n",
    "Robin Hood has hit the following points:"
   ]
  },
  {
   "cell_type": "code",
   "execution_count": 1,
   "metadata": {},
   "outputs": [],
   "source": [
    "points = [(4, 5), (-0, 2), (4, 7), (1, -3), (3, -2), (4, 5), (3, 2), (5, 7), (-5, 7), (2, 2), (-4, 5), (0, -2),\n",
    "          (-4, 7), (-1, 3), (-3, 2), (-4, -5), (-3, 2), (5, 7), (5, 7), (2, 2), (9, 9), (-8, -9)]"
   ]
  },
  {
   "cell_type": "markdown",
   "metadata": {},
   "source": [
    "#### 1. Robin Hood is famous for hitting an arrow with another arrow. Find the coordinates of the points where an arrow hits another arrow."
   ]
  },
  {
   "cell_type": "code",
   "execution_count": 2,
   "metadata": {},
   "outputs": [
    {
     "name": "stdout",
     "output_type": "stream",
     "text": [
      "[(4, 5), (5, 7), (2, 2), (-3, 2)]\n"
     ]
    }
   ],
   "source": [
    "arrow_hits_arrow = []\n",
    "\n",
    "for point in points:\n",
    "    if points.count(point) > 1 and point not in arrow_hits_arrow:\n",
    "        arrow_hits_arrow.append(point)\n",
    "\n",
    "print(arrow_hits_arrow)"
   ]
  },
  {
   "cell_type": "markdown",
   "metadata": {},
   "source": [
    "#### 2. Calculate how many arrows have fallen in each quadrant. \n",
    "**Note**: the arrows that fall in the axis (x=0 or y=0) don't belong to any quadrant."
   ]
  },
  {
   "cell_type": "code",
   "execution_count": 3,
   "metadata": {},
   "outputs": [
    {
     "name": "stdout",
     "output_type": "stream",
     "text": [
      "Quadrant 1 :  10\n",
      "Quadrant 2 :  6\n",
      "Quadrant 3 :  2\n",
      "Quadrant 4 :  2\n"
     ]
    }
   ],
   "source": [
    "x_coordinates = []\n",
    "y_coordinates = []\n",
    "sum_Q1 = sum_Q2 = sum_Q3 = sum_Q4 = 0\n",
    "\n",
    "for index, point in enumerate(points):\n",
    "    x_coordinates.append( int(point[0]) )\n",
    "    y_coordinates.append( int(point[1]) )\n",
    "\n",
    "    if x_coordinates[index] > 0:\n",
    "        if y_coordinates[index] > 0:\n",
    "            sum_Q1 = sum_Q1 + 1\n",
    "        elif y_coordinates[index] < 0:\n",
    "            sum_Q4 = sum_Q4 + 1\n",
    "\n",
    "    if x_coordinates[index] < 0:\n",
    "        if y_coordinates[index] < 0:\n",
    "            sum_Q3 = sum_Q3 + 1\n",
    "        elif y_coordinates[index] > 0:\n",
    "            sum_Q2 = sum_Q2 + 1\n",
    "\n",
    "print(\"Quadrant 1 : \", sum_Q1)\n",
    "print(\"Quadrant 2 : \", sum_Q2)\n",
    "print(\"Quadrant 3 : \", sum_Q3)\n",
    "print(\"Quadrant 4 : \", sum_Q4)"
   ]
  },
  {
   "cell_type": "markdown",
   "metadata": {},
   "source": [
    "#### 3. Find the point closest to the center. Calculate its distance to the center. \n",
    "Take into account that there might be more than one point at the minimum distance to the center.\n",
    "\n",
    "**Hint**: Use the Euclidean distance. You can find more information about it [here](https://en.wikipedia.org/wiki/Euclidean_distance).  \n",
    "**Hint**: Defining a function that calculates the distance to the center can help."
   ]
  },
  {
   "cell_type": "code",
   "execution_count": 9,
   "metadata": {},
   "outputs": [
    {
     "name": "stdout",
     "output_type": "stream",
     "text": [
      "Distances to the center :  [6.4031242374328485, 2.0, 8.06225774829855, 3.1622776601683795, 3.605551275463989, 6.4031242374328485, 3.605551275463989, 8.602325267042627, 8.602325267042627, 2.8284271247461903, 6.4031242374328485, 2.0, 8.06225774829855, 3.1622776601683795, 3.605551275463989, 6.4031242374328485, 3.605551275463989, 8.602325267042627, 8.602325267042627, 2.8284271247461903, 12.727922061357855, 12.041594578792296]\n",
      "\n",
      "MINIMUM distance to the center :  2.0\n",
      "(0, 2)\n",
      "(0, -2)\n"
     ]
    }
   ],
   "source": [
    "def euclidian_distance(x, y):\n",
    "    distance = []\n",
    "\n",
    "    for i in range(len(x)):\n",
    "        distance.append( (x[i]**2 + y[i]**2) ** 0.5 )\n",
    "    \n",
    "    return distance\n",
    "\n",
    "center_distance = euclidian_distance(x_coordinates, y_coordinates)\n",
    "print(\"Distances to the center : \", center_distance)\n",
    "print()\n",
    "print(\"MINIMUM distance to the center : \", min(center_distance))\n",
    "\n",
    "for index, distance in enumerate(center_distance):\n",
    "    if distance == min(center_distance):\n",
    "        print(points[index])"
   ]
  },
  {
   "cell_type": "markdown",
   "metadata": {},
   "source": [
    "#### 4. If the archery target has a radius of 9, calculate the number of arrows that won't hit the target. \n",
    "**Hint**: Use the function created in step 3. "
   ]
  },
  {
   "cell_type": "code",
   "execution_count": 10,
   "metadata": {},
   "outputs": [],
   "source": [
    "out_of_target = 0\n",
    "radius = 9\n",
    "\n",
    "for each_distance in center_distance:\n",
    "    if each_distance > radius:\n",
    "        out_of_target = out_of_target + 1"
   ]
  },
  {
   "cell_type": "code",
   "execution_count": 11,
   "metadata": {},
   "outputs": [
    {
     "name": "stdout",
     "output_type": "stream",
     "text": [
      "Number of arrows out of target :  2\n"
     ]
    }
   ],
   "source": [
    "print(\"Number of arrows out of target : \", out_of_target)"
   ]
  },
  {
   "cell_type": "code",
   "execution_count": null,
   "metadata": {},
   "outputs": [],
   "source": []
  },
  {
   "cell_type": "code",
   "execution_count": null,
   "metadata": {},
   "outputs": [],
   "source": []
  }
 ],
 "metadata": {
  "kernelspec": {
   "display_name": "Python 3",
   "language": "python",
   "name": "python3"
  },
  "language_info": {
   "codemirror_mode": {
    "name": "ipython",
    "version": 3
   },
   "file_extension": ".py",
   "mimetype": "text/x-python",
   "name": "python",
   "nbconvert_exporter": "python",
   "pygments_lexer": "ipython3",
   "version": "3.9.1"
  }
 },
 "nbformat": 4,
 "nbformat_minor": 2
}
